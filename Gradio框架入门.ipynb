{
 "cells": [
  {
   "cell_type": "markdown",
   "metadata": {},
   "source": [
    "# 1小时入门 Gradio 框架：定制你的 AI Agent 程序界面\n",
    "\n",
    "## 课程介绍\n",
    "\n",
    "### 课程目标\n",
    "\n",
    "1. **了解Gradio框架**：对Gradio框架有一个全面的认识，包括其背后的设计理念、主要功能和应用场景。\n",
    "2. **掌握Gradio的核心概念**：理解Gradio的工作流程、核心概念如Interface和Component，以及如何使用其常用模块。\n",
    "3. **实践Gradio应用开发**：通过实际的代码演示和操作，使用Gradio构建AI Agent的用户界面，特别是如何为ChatGPT agent设计图形界面。\n",
    "4. **分析Stable Diffusion的UI**：了解什么是Stable Diffusion，以及如何使用Gradio构建其用户界面。\n"
   ]
  },
  {
   "cell_type": "markdown",
   "metadata": {},
   "source": [
    "## 第一部分：为什么选择Gradio作为AGI（Artificial General Intelligence）的UI工具\n",
    "\n",
    "### 1. **什么是Gradio**\n",
    "[Gradio官网链接](https://gradio.app/)\n",
    "\n",
    "Gradio allows you to build demos and share them, all in Python. And usually in just a few lines of code!\n",
    "\n",
    "### 2. **简单性和易用性**\n",
    "Prerequisite: Gradio requires Python 3.8 or higher, that’s all!\n",
    "\n",
    "### 3. **无需前端开发经验**\n",
    "\n",
    "### 4. **快速原型开发**\n",
    "\n",
    "### 5. **可以与其他工具和库集成**\n",
    "\n",
    "### 6. **广泛的应用场景**\n",
    "如：Stable Diffusion\n"
   ]
  },
  {
   "cell_type": "markdown",
   "metadata": {},
   "source": [
    "## 第二部分：Stable Diffusion的UI分析\n",
    "\n",
    "\n",
    "- **什么是Stable Diffusion**\n",
    "- **Stable Diffusion的UI界面**\n",
    "- **与其他方法的比较**\n",
    "\n",
    "1. **简单性和快速部署**：Gradio允许用户在几行代码内快速创建和部署机器学习模型的界面，无需复杂的前端开发经验。\n",
    "2. **灵活的输入/输出组件**：Gradio提供了多种预定义的输入和输出组件，如图像、文本、音频等，使得与模型的交互更为直观和简单。\n",
    "3. **与其他工具和库的集成**：Gradio可以轻松地与其他流行的机器学习库和工具集成，如TensorFlow、PyTorch等，为用户提供了广泛的应用场景。\n"
   ]
  },
  {
   "cell_type": "markdown",
   "metadata": {},
   "source": [
    "## 第三部分：Gradio工作模式\n",
    "\n",
    "\n",
    "- **工作流程**\n",
    "- **部署**\n"
   ]
  },
  {
   "cell_type": "code",
   "execution_count": 2,
   "metadata": {},
   "outputs": [
    {
     "name": "stdout",
     "output_type": "stream",
     "text": [
      "Looking in indexes: https://pypi.mirrors.ustc.edu.cn/simple\n",
      "Collecting gradio\n",
      "  Downloading https://mirrors.bfsu.edu.cn/pypi/web/packages/c5/49/ea7450fb03b926110181b758ff30a8426a6aaa60ae99f149ec3e7bacf04e/gradio-4.40.0-py3-none-any.whl (12.5 MB)\n",
      "     ---------------------------------------- 0.0/12.5 MB ? eta -:--:--\n",
      "     - -------------------------------------- 0.4/12.5 MB 13.9 MB/s eta 0:00:01\n",
      "     --- ------------------------------------ 1.0/12.5 MB 12.2 MB/s eta 0:00:01\n",
      "     ---- ----------------------------------- 1.5/12.5 MB 12.0 MB/s eta 0:00:01\n",
      "     ------ --------------------------------- 2.1/12.5 MB 11.9 MB/s eta 0:00:01\n",
      "     -------- ------------------------------- 2.6/12.5 MB 11.9 MB/s eta 0:00:01\n",
      "     ---------- ----------------------------- 3.1/12.5 MB 11.8 MB/s eta 0:00:01\n",
      "     ----------- ---------------------------- 3.7/12.5 MB 11.8 MB/s eta 0:00:01\n",
      "     ------------- -------------------------- 4.2/12.5 MB 11.8 MB/s eta 0:00:01\n",
      "     --------------- ------------------------ 4.8/12.5 MB 11.8 MB/s eta 0:00:01\n",
      "     ----------------- ---------------------- 5.4/12.5 MB 11.8 MB/s eta 0:00:01\n",
      "     ------------------ --------------------- 5.9/12.5 MB 11.8 MB/s eta 0:00:01\n",
      "     -------------------- ------------------- 6.4/12.5 MB 11.7 MB/s eta 0:00:01\n",
      "     ---------------------- ----------------- 7.0/12.5 MB 11.8 MB/s eta 0:00:01\n",
      "     ------------------------ --------------- 7.5/12.5 MB 11.7 MB/s eta 0:00:01\n",
      "     ------------------------ --------------- 7.6/12.5 MB 11.8 MB/s eta 0:00:01\n",
      "     --------------------------- ------------ 8.6/12.5 MB 11.7 MB/s eta 0:00:01\n",
      "     ---------------------------- ----------- 9.0/12.5 MB 11.5 MB/s eta 0:00:01\n",
      "     ------------------------------ --------- 9.5/12.5 MB 11.5 MB/s eta 0:00:01\n",
      "     ------------------------------- ------- 10.1/12.5 MB 11.5 MB/s eta 0:00:01\n",
      "     --------------------------------- ----- 10.6/12.5 MB 11.5 MB/s eta 0:00:01\n",
      "     ---------------------------------- ---- 11.2/12.5 MB 11.5 MB/s eta 0:00:01\n",
      "     ------------------------------------ -- 11.7/12.5 MB 11.7 MB/s eta 0:00:01\n",
      "     --------------------------------------  12.2/12.5 MB 11.7 MB/s eta 0:00:01\n",
      "     --------------------------------------- 12.5/12.5 MB 11.3 MB/s eta 0:00:00\n",
      "Requirement already satisfied: aiofiles<24.0,>=22.0 in d:\\software\\anaconda3\\lib\\site-packages (from gradio) (22.1.0)\n",
      "Requirement already satisfied: anyio<5.0,>=3.0 in d:\\software\\anaconda3\\lib\\site-packages (from gradio) (3.5.0)\n",
      "Requirement already satisfied: fastapi in d:\\software\\anaconda3\\lib\\site-packages (from gradio) (0.111.0)\n",
      "Collecting ffmpy (from gradio)\n",
      "  Downloading https://mirrors.bfsu.edu.cn/pypi/web/packages/ff/1e/db99aa669eee301966bc6c997d60a0240f9cecae63f044b2e5a5310e4bf7/ffmpy-0.4.0-py3-none-any.whl (5.8 kB)\n",
      "Collecting gradio-client==1.2.0 (from gradio)\n",
      "  Downloading https://mirrors.bfsu.edu.cn/pypi/web/packages/6c/db/8e1bd76e7683193d706eaf9b3544c922174555e005290c84549544cd830f/gradio_client-1.2.0-py3-none-any.whl (318 kB)\n",
      "     ---------------------------------------- 0.0/318.6 kB ? eta -:--:--\n",
      "     -------------------------------------- 318.6/318.6 kB 9.9 MB/s eta 0:00:00\n",
      "Requirement already satisfied: httpx>=0.24.1 in d:\\software\\anaconda3\\lib\\site-packages (from gradio) (0.27.0)\n",
      "Collecting huggingface-hub>=0.19.3 (from gradio)\n",
      "  Downloading https://mirrors.bfsu.edu.cn/pypi/web/packages/0b/05/31b21998f68c31e7ffcc27ff08531fb9af5506d765ce8d661fb0036e6918/huggingface_hub-0.24.5-py3-none-any.whl (417 kB)\n",
      "     ---------------------------------------- 0.0/417.5 kB ? eta -:--:--\n",
      "     ------------------------------------- 417.5/417.5 kB 12.7 MB/s eta 0:00:00\n",
      "Collecting importlib-resources<7.0,>=1.3 (from gradio)\n",
      "  Using cached https://mirrors.bfsu.edu.cn/pypi/web/packages/75/06/4df55e1b7b112d183f65db9503bff189e97179b256e1ea450a3c365241e0/importlib_resources-6.4.0-py3-none-any.whl (38 kB)\n",
      "Requirement already satisfied: jinja2<4.0 in d:\\software\\anaconda3\\lib\\site-packages (from gradio) (3.1.2)\n",
      "Requirement already satisfied: markupsafe~=2.0 in d:\\software\\anaconda3\\lib\\site-packages (from gradio) (2.1.1)\n",
      "Requirement already satisfied: matplotlib~=3.0 in d:\\software\\anaconda3\\lib\\site-packages (from gradio) (3.7.2)\n",
      "Requirement already satisfied: numpy<3.0,>=1.0 in d:\\software\\anaconda3\\lib\\site-packages (from gradio) (1.24.2)\n",
      "Requirement already satisfied: orjson~=3.0 in d:\\software\\anaconda3\\lib\\site-packages (from gradio) (3.10.3)\n",
      "Requirement already satisfied: packaging in d:\\software\\anaconda3\\lib\\site-packages (from gradio) (23.2)\n",
      "Requirement already satisfied: pandas<3.0,>=1.0 in d:\\software\\anaconda3\\lib\\site-packages (from gradio) (2.2.2)\n",
      "Requirement already satisfied: pillow<11.0,>=8.0 in d:\\software\\anaconda3\\lib\\site-packages (from gradio) (9.4.0)\n",
      "Requirement already satisfied: pydantic>=2.0 in d:\\software\\anaconda3\\lib\\site-packages (from gradio) (2.5.3)\n",
      "Requirement already satisfied: pydub in d:\\software\\anaconda3\\lib\\site-packages (from gradio) (0.25.1)\n",
      "Requirement already satisfied: python-multipart>=0.0.9 in d:\\software\\anaconda3\\lib\\site-packages (from gradio) (0.0.9)\n",
      "Requirement already satisfied: pyyaml<7.0,>=5.0 in d:\\software\\anaconda3\\lib\\site-packages (from gradio) (6.0)\n",
      "Collecting ruff>=0.2.2 (from gradio)\n",
      "  Downloading https://mirrors.bfsu.edu.cn/pypi/web/packages/27/c6/b51987072bba4a56537b6fc7036d9bf0694a9de6cceddaa0761475658632/ruff-0.5.6-py3-none-win_amd64.whl (8.7 MB)\n",
      "     ---------------------------------------- 0.0/8.7 MB ? eta -:--:--\n",
      "     -- ------------------------------------- 0.5/8.7 MB 10.9 MB/s eta 0:00:01\n",
      "     ---- ----------------------------------- 1.0/8.7 MB 11.0 MB/s eta 0:00:01\n",
      "     ------- -------------------------------- 1.6/8.7 MB 11.0 MB/s eta 0:00:01\n",
      "     --------- ------------------------------ 2.1/8.7 MB 11.1 MB/s eta 0:00:01\n",
      "     ---------- ----------------------------- 2.3/8.7 MB 11.5 MB/s eta 0:00:01\n",
      "     ---------- ----------------------------- 2.3/8.7 MB 11.5 MB/s eta 0:00:01\n",
      "     ---------- ----------------------------- 2.3/8.7 MB 11.5 MB/s eta 0:00:01\n",
      "     ---------- ----------------------------- 2.4/8.7 MB 6.5 MB/s eta 0:00:01\n",
      "     ---------- ----------------------------- 2.4/8.7 MB 6.5 MB/s eta 0:00:01\n",
      "     ----------- ---------------------------- 2.5/8.7 MB 5.5 MB/s eta 0:00:02\n",
      "     -------------- ------------------------- 3.1/8.7 MB 6.1 MB/s eta 0:00:01\n",
      "     ---------------- ----------------------- 3.6/8.7 MB 6.6 MB/s eta 0:00:01\n",
      "     ------------------- -------------------- 4.1/8.7 MB 6.9 MB/s eta 0:00:01\n",
      "     --------------------- ------------------ 4.7/8.7 MB 7.3 MB/s eta 0:00:01\n",
      "     ----------------------- ---------------- 5.2/8.7 MB 7.5 MB/s eta 0:00:01\n",
      "     -------------------------- ------------- 5.7/8.7 MB 7.8 MB/s eta 0:00:01\n",
      "     ---------------------------- ----------- 6.3/8.7 MB 8.0 MB/s eta 0:00:01\n",
      "     ------------------------------- -------- 6.8/8.7 MB 8.2 MB/s eta 0:00:01\n",
      "     --------------------------------- ------ 7.4/8.7 MB 8.4 MB/s eta 0:00:01\n",
      "     ------------------------------------ --- 7.9/8.7 MB 8.6 MB/s eta 0:00:01\n",
      "     -------------------------------------- - 8.4/8.7 MB 8.7 MB/s eta 0:00:01\n",
      "     ---------------------------------------  8.7/8.7 MB 8.8 MB/s eta 0:00:01\n",
      "     ---------------------------------------- 8.7/8.7 MB 8.4 MB/s eta 0:00:00\n",
      "Collecting semantic-version~=2.0 (from gradio)\n",
      "  Using cached https://mirrors.bfsu.edu.cn/pypi/web/packages/6a/23/8146aad7d88f4fcb3a6218f41a60f6c2d4e3a72de72da1825dc7c8f7877c/semantic_version-2.10.0-py2.py3-none-any.whl (15 kB)\n",
      "Collecting tomlkit==0.12.0 (from gradio)\n",
      "  Using cached https://mirrors.bfsu.edu.cn/pypi/web/packages/68/4f/12207897848a653d03ebbf6775a29d949408ded5f99b2d87198bc5c93508/tomlkit-0.12.0-py3-none-any.whl (37 kB)\n",
      "Requirement already satisfied: typer<1.0,>=0.12 in d:\\software\\anaconda3\\lib\\site-packages (from gradio) (0.12.3)\n",
      "Requirement already satisfied: typing-extensions~=4.0 in d:\\software\\anaconda3\\lib\\site-packages (from gradio) (4.12.1)\n",
      "Collecting urllib3~=2.0 (from gradio)\n",
      "  Using cached https://mirrors.bfsu.edu.cn/pypi/web/packages/ca/1c/89ffc63a9605b583d5df2be791a27bc1a42b7c32bab68d3c8f2f73a98cd4/urllib3-2.2.2-py3-none-any.whl (121 kB)\n",
      "Requirement already satisfied: uvicorn>=0.14.0 in d:\\software\\anaconda3\\lib\\site-packages (from gradio) (0.30.1)\n",
      "Requirement already satisfied: fsspec in d:\\software\\anaconda3\\lib\\site-packages (from gradio-client==1.2.0->gradio) (2023.4.0)\n",
      "Requirement already satisfied: websockets<13.0,>=10.0 in d:\\software\\anaconda3\\lib\\site-packages (from gradio-client==1.2.0->gradio) (12.0)\n",
      "Requirement already satisfied: idna>=2.8 in d:\\software\\anaconda3\\lib\\site-packages (from anyio<5.0,>=3.0->gradio) (3.4)\n",
      "Requirement already satisfied: sniffio>=1.1 in d:\\software\\anaconda3\\lib\\site-packages (from anyio<5.0,>=3.0->gradio) (1.2.0)\n",
      "Requirement already satisfied: certifi in d:\\software\\anaconda3\\lib\\site-packages (from httpx>=0.24.1->gradio) (2024.2.2)\n",
      "Requirement already satisfied: httpcore==1.* in d:\\software\\anaconda3\\lib\\site-packages (from httpx>=0.24.1->gradio) (1.0.5)\n",
      "Requirement already satisfied: h11<0.15,>=0.13 in d:\\software\\anaconda3\\lib\\site-packages (from httpcore==1.*->httpx>=0.24.1->gradio) (0.14.0)\n",
      "Requirement already satisfied: filelock in d:\\software\\anaconda3\\lib\\site-packages (from huggingface-hub>=0.19.3->gradio) (3.14.0)\n",
      "Collecting fsspec (from gradio-client==1.2.0->gradio)\n",
      "  Using cached https://mirrors.bfsu.edu.cn/pypi/web/packages/5e/44/73bea497ac69bafde2ee4269292fa3b41f1198f4bb7bbaaabde30ad29d4a/fsspec-2024.6.1-py3-none-any.whl (177 kB)\n",
      "Requirement already satisfied: requests in d:\\software\\anaconda3\\lib\\site-packages (from huggingface-hub>=0.19.3->gradio) (2.31.0)\n",
      "Requirement already satisfied: tqdm>=4.42.1 in d:\\software\\anaconda3\\lib\\site-packages (from huggingface-hub>=0.19.3->gradio) (4.66.4)\n",
      "Requirement already satisfied: contourpy>=1.0.1 in d:\\software\\anaconda3\\lib\\site-packages (from matplotlib~=3.0->gradio) (1.0.5)\n",
      "Requirement already satisfied: cycler>=0.10 in d:\\software\\anaconda3\\lib\\site-packages (from matplotlib~=3.0->gradio) (0.11.0)\n",
      "Requirement already satisfied: fonttools>=4.22.0 in d:\\software\\anaconda3\\lib\\site-packages (from matplotlib~=3.0->gradio) (4.25.0)\n",
      "Requirement already satisfied: kiwisolver>=1.0.1 in d:\\software\\anaconda3\\lib\\site-packages (from matplotlib~=3.0->gradio) (1.4.4)\n",
      "Requirement already satisfied: pyparsing<3.1,>=2.3.1 in d:\\software\\anaconda3\\lib\\site-packages (from matplotlib~=3.0->gradio) (3.0.9)\n",
      "Requirement already satisfied: python-dateutil>=2.7 in d:\\software\\anaconda3\\lib\\site-packages (from matplotlib~=3.0->gradio) (2.8.2)\n",
      "Requirement already satisfied: pytz>=2020.1 in d:\\software\\anaconda3\\lib\\site-packages (from pandas<3.0,>=1.0->gradio) (2023.3.post1)\n",
      "Requirement already satisfied: tzdata>=2022.7 in d:\\software\\anaconda3\\lib\\site-packages (from pandas<3.0,>=1.0->gradio) (2023.3)\n",
      "Requirement already satisfied: annotated-types>=0.4.0 in d:\\software\\anaconda3\\lib\\site-packages (from pydantic>=2.0->gradio) (0.7.0)\n",
      "Requirement already satisfied: pydantic-core==2.14.6 in d:\\software\\anaconda3\\lib\\site-packages (from pydantic>=2.0->gradio) (2.14.6)\n",
      "Requirement already satisfied: click>=8.0.0 in d:\\software\\anaconda3\\lib\\site-packages (from typer<1.0,>=0.12->gradio) (8.0.4)\n",
      "Requirement already satisfied: shellingham>=1.3.0 in d:\\software\\anaconda3\\lib\\site-packages (from typer<1.0,>=0.12->gradio) (1.5.4)\n",
      "Requirement already satisfied: rich>=10.11.0 in d:\\software\\anaconda3\\lib\\site-packages (from typer<1.0,>=0.12->gradio) (13.7.1)\n",
      "Requirement already satisfied: starlette<0.38.0,>=0.37.2 in d:\\software\\anaconda3\\lib\\site-packages (from fastapi->gradio) (0.37.2)\n",
      "Requirement already satisfied: fastapi-cli>=0.0.2 in d:\\software\\anaconda3\\lib\\site-packages (from fastapi->gradio) (0.0.4)\n",
      "Requirement already satisfied: ujson!=4.0.2,!=4.1.0,!=4.2.0,!=4.3.0,!=5.0.0,!=5.1.0,>=4.0.1 in d:\\software\\anaconda3\\lib\\site-packages (from fastapi->gradio) (5.4.0)\n",
      "Requirement already satisfied: email_validator>=2.0.0 in d:\\software\\anaconda3\\lib\\site-packages (from fastapi->gradio) (2.1.1)\n",
      "Requirement already satisfied: colorama in d:\\software\\anaconda3\\lib\\site-packages (from click>=8.0.0->typer<1.0,>=0.12->gradio) (0.4.6)\n",
      "Requirement already satisfied: dnspython>=2.0.0 in d:\\software\\anaconda3\\lib\\site-packages (from email_validator>=2.0.0->fastapi->gradio) (2.6.1)\n",
      "Requirement already satisfied: six>=1.5 in d:\\software\\anaconda3\\lib\\site-packages (from python-dateutil>=2.7->matplotlib~=3.0->gradio) (1.16.0)\n",
      "Requirement already satisfied: markdown-it-py>=2.2.0 in d:\\software\\anaconda3\\lib\\site-packages (from rich>=10.11.0->typer<1.0,>=0.12->gradio) (2.2.0)\n",
      "Requirement already satisfied: pygments<3.0.0,>=2.13.0 in d:\\software\\anaconda3\\lib\\site-packages (from rich>=10.11.0->typer<1.0,>=0.12->gradio) (2.15.1)\n",
      "Requirement already satisfied: httptools>=0.5.0 in d:\\software\\anaconda3\\lib\\site-packages (from uvicorn>=0.14.0->gradio) (0.6.1)\n",
      "Requirement already satisfied: python-dotenv>=0.13 in d:\\software\\anaconda3\\lib\\site-packages (from uvicorn>=0.14.0->gradio) (1.0.1)\n",
      "Requirement already satisfied: watchfiles>=0.13 in d:\\software\\anaconda3\\lib\\site-packages (from uvicorn>=0.14.0->gradio) (0.22.0)\n",
      "Requirement already satisfied: charset-normalizer<4,>=2 in d:\\software\\anaconda3\\lib\\site-packages (from requests->huggingface-hub>=0.19.3->gradio) (2.0.4)\n",
      "Requirement already satisfied: mdurl~=0.1 in d:\\software\\anaconda3\\lib\\site-packages (from markdown-it-py>=2.2.0->rich>=10.11.0->typer<1.0,>=0.12->gradio) (0.1.0)\n",
      "Installing collected packages: urllib3, tomlkit, semantic-version, ruff, importlib-resources, fsspec, ffmpy, huggingface-hub, gradio-client, gradio\n",
      "  Attempting uninstall: urllib3\n",
      "    Found existing installation: urllib3 1.26.16\n",
      "    Uninstalling urllib3-1.26.16:\n",
      "      Successfully uninstalled urllib3-1.26.16\n",
      "  Attempting uninstall: tomlkit\n",
      "    Found existing installation: tomlkit 0.11.1\n",
      "    Uninstalling tomlkit-0.11.1:\n",
      "      Successfully uninstalled tomlkit-0.11.1\n",
      "  Attempting uninstall: fsspec\n",
      "    Found existing installation: fsspec 2023.4.0\n",
      "    Uninstalling fsspec-2023.4.0:\n",
      "      Successfully uninstalled fsspec-2023.4.0\n",
      "  Attempting uninstall: huggingface-hub\n",
      "    Found existing installation: huggingface-hub 0.15.1\n",
      "    Uninstalling huggingface-hub-0.15.1:\n",
      "      Successfully uninstalled huggingface-hub-0.15.1\n",
      "Successfully installed ffmpy-0.4.0 fsspec-2024.6.1 gradio-4.40.0 gradio-client-1.2.0 huggingface-hub-0.24.5 importlib-resources-6.4.0 ruff-0.5.6 semantic-version-2.10.0 tomlkit-0.12.0 urllib3-2.2.2\n",
      "Note: you may need to restart the kernel to use updated packages.\n"
     ]
    },
    {
     "name": "stderr",
     "output_type": "stream",
     "text": [
      "ERROR: pip's dependency resolver does not currently take into account all the packages that are installed. This behaviour is the source of the following dependency conflicts.\n",
      "s3fs 2023.4.0 requires fsspec==2023.4.0, but you have fsspec 2024.6.1 which is incompatible.\n"
     ]
    }
   ],
   "source": [
    "%pip install gradio"
   ]
  },
  {
   "cell_type": "markdown",
   "metadata": {},
   "source": [
    "- **Hello World**"
   ]
  },
  {
   "cell_type": "code",
   "execution_count": 1,
   "metadata": {},
   "outputs": [
    {
     "name": "stdout",
     "output_type": "stream",
     "text": [
      "Running on local URL:  http://127.0.0.1:7860\n",
      "Running on public URL: https://9f891e13aa270e1a7c.gradio.live\n",
      "\n",
      "This share link expires in 72 hours. For free permanent hosting and GPU upgrades, run `gradio deploy` from Terminal to deploy to Spaces (https://huggingface.co/spaces)\n"
     ]
    },
    {
     "data": {
      "text/html": [
       "<div><iframe src=\"https://9f891e13aa270e1a7c.gradio.live\" width=\"100%\" height=\"500\" allow=\"autoplay; camera; microphone; clipboard-read; clipboard-write;\" frameborder=\"0\" allowfullscreen></iframe></div>"
      ],
      "text/plain": [
       "<IPython.core.display.HTML object>"
      ]
     },
     "metadata": {},
     "output_type": "display_data"
    },
    {
     "data": {
      "text/plain": []
     },
     "execution_count": 1,
     "metadata": {},
     "output_type": "execute_result"
    }
   ],
   "source": [
    "# 导入gradio库，简称为gr\n",
    "import gradio as gr\n",
    "\n",
    "# 定义一个函数，该函数接收一个名为name的参数，并返回一个问候消息\n",
    "def greet(name):\n",
    "    return \"Hello \" + name + \"!\"\n",
    "\n",
    "# 使用gr.Interface创建一个界面。这个界面将使用上面定义的greet函数。\n",
    "# 输入和输出都是文本格式。\n",
    "demo = gr.Interface(fn=greet, inputs=\"text\", outputs=\"text\")\n",
    "    \n",
    "# 启动创建的界面，这将在浏览器中打开一个新的窗口/标签页，用户可以在其中输入名字并接收问候消息。\n",
    "demo.launch(share=True)   \n"
   ]
  },
  {
   "cell_type": "markdown",
   "metadata": {},
   "source": [
    "## 核心Interface类的初始化\n",
    "\n",
    "核心`Interface`类使用三个必需参数进行初始化：\n",
    "\n",
    "- **fn**：包装 UI 的函数\n",
    "- **inputs**：用于输入的组件（例如\"text\"、\"image\"或\"audio\"）\n",
    "- **outputs**：用于输出的组件（例如\"text\"、\"image\"或\"label\"）\n"
   ]
  },
  {
   "cell_type": "code",
   "execution_count": 2,
   "metadata": {},
   "outputs": [
    {
     "name": "stdout",
     "output_type": "stream",
     "text": [
      "Running on local URL:  http://127.0.0.1:7861\n",
      "\n",
      "To create a public link, set `share=True` in `launch()`.\n"
     ]
    },
    {
     "data": {
      "text/html": [
       "<div><iframe src=\"http://127.0.0.1:7861/\" width=\"100%\" height=\"500\" allow=\"autoplay; camera; microphone; clipboard-read; clipboard-write;\" frameborder=\"0\" allowfullscreen></iframe></div>"
      ],
      "text/plain": [
       "<IPython.core.display.HTML object>"
      ]
     },
     "metadata": {},
     "output_type": "display_data"
    },
    {
     "data": {
      "text/plain": []
     },
     "execution_count": 2,
     "metadata": {},
     "output_type": "execute_result"
    }
   ],
   "source": [
    "# 写个更复杂的Hello World\n",
    "\n",
    "import gradio as gr\n",
    "\n",
    "# 定义一个函数，该函数接收三个参数：名字、是否是早上以及温度。\n",
    "# 函数返回一个问候消息以及温度的摄氏值。\n",
    "def greet(name, is_morning, temperature):\n",
    "    # 根据is_morning的值选择合适的问候语\n",
    "    salutation = \"上午好\" if is_morning else \"下午好\"\n",
    "    # 使用f-string格式化问候消息\n",
    "    greeting = f\"{salutation} {name}. 今天的温度是 {temperature} 华氏度\"\n",
    "    # 将温度从华氏度转换为摄氏度\n",
    "    celsius = (temperature - 32) * 5 / 9\n",
    "    # 返回格式化的问候消息和摄氏温度（保留两位小数）\n",
    "    return greeting, round(celsius, 2)\n",
    "\n",
    "# 使用gr.Interface创建一个界面。这个界面将使用上面定义的greet函数。\n",
    "# 输入包括：文本框（名字）、复选框（是否是早上）和滑块（温度，范围从0到100）。\n",
    "# 输出包括：文本（问候消息）和数字（摄氏温度）。\n",
    "demo = gr.Interface(\n",
    "    fn=greet,\n",
    "    inputs=[\"text\", \"checkbox\", gr.Slider(0, 100)],\n",
    "    outputs=[\"text\", \"number\"],\n",
    ")\n",
    "\n",
    "# 启动创建的界面，这将在浏览器中打开一个新的窗口/标签页，用户可以在其中输入信息并接收问候消息和摄氏温度。\n",
    "demo.launch()\n"
   ]
  },
  {
   "cell_type": "code",
   "execution_count": 4,
   "metadata": {},
   "outputs": [
    {
     "name": "stdout",
     "output_type": "stream",
     "text": [
      "Looking in indexes: https://pypi.mirrors.ustc.edu.cn/simple\n",
      "Requirement already satisfied: numpy in d:\\software\\anaconda3\\lib\\site-packages (1.24.2)\n",
      "Note: you may need to restart the kernel to use updated packages.\n"
     ]
    }
   ],
   "source": [
    "%pip install numpy"
   ]
  },
  {
   "cell_type": "code",
   "execution_count": 8,
   "metadata": {},
   "outputs": [
    {
     "name": "stdout",
     "output_type": "stream",
     "text": [
      "Running on local URL:  http://127.0.0.1:7862\n",
      "\n",
      "To create a public link, set `share=True` in `launch()`.\n"
     ]
    },
    {
     "data": {
      "text/html": [
       "<div><iframe src=\"http://127.0.0.1:7862/\" width=\"100%\" height=\"500\" allow=\"autoplay; camera; microphone; clipboard-read; clipboard-write;\" frameborder=\"0\" allowfullscreen></iframe></div>"
      ],
      "text/plain": [
       "<IPython.core.display.HTML object>"
      ]
     },
     "metadata": {},
     "output_type": "display_data"
    },
    {
     "data": {
      "text/plain": []
     },
     "execution_count": 8,
     "metadata": {},
     "output_type": "execute_result"
    }
   ],
   "source": [
    "# 来试试图片功能\n",
    "# 导入numpy库，简称为np，用于数值计算\n",
    "import numpy as np\n",
    "# 导入gradio库，简称为gr，用于创建交互式界面\n",
    "import gradio as gr\n",
    "\n",
    "# 定义一个函数，该函数接收一个输入图像，并返回经过sepia滤镜处理的图像\n",
    "def sepia(input_img):\n",
    "    # 定义sepia滤镜的转换矩阵\n",
    "    sepia_filter = np.array([\n",
    "        [0.393, 0.769, 0.189], \n",
    "        [0.349, 0.686, 0.168], \n",
    "        [0.272, 0.534, 0.131]\n",
    "    ])\n",
    "    # 使用dot函数将输入图像与sepia滤镜的转换矩阵相乘，得到sepia效果的图像\n",
    "    sepia_img = input_img.dot(sepia_filter.T)\n",
    "    # 将sepia图像的值归一化到[0, 1]范围\n",
    "    sepia_img /= sepia_img.max()\n",
    "    # 返回处理后的sepia图像\n",
    "    return sepia_img\n",
    "\n",
    "# 使用gr.Interface创建一个界面。这个界面将使用上面定义的sepia函数。\n",
    "# 输入是一个200x200的图像，输出是一个经过sepia滤镜处理的图像。\n",
    "demo = gr.Interface(sepia, gr.Image(image_mode='RGB'), \"image\")\n",
    "\n",
    "# 启动创建的界面，这将在浏览器中打开一个新的窗口/标签页，用户可以上传图像并查看经过sepia滤镜处理的结果。\n",
    "demo.launch()\n"
   ]
  },
  {
   "cell_type": "code",
   "execution_count": 9,
   "metadata": {},
   "outputs": [
    {
     "name": "stdout",
     "output_type": "stream",
     "text": [
      "Running on local URL:  http://127.0.0.1:7863\n",
      "\n",
      "To create a public link, set `share=True` in `launch()`.\n"
     ]
    },
    {
     "data": {
      "text/html": [
       "<div><iframe src=\"http://127.0.0.1:7863/\" width=\"100%\" height=\"500\" allow=\"autoplay; camera; microphone; clipboard-read; clipboard-write;\" frameborder=\"0\" allowfullscreen></iframe></div>"
      ],
      "text/plain": [
       "<IPython.core.display.HTML object>"
      ]
     },
     "metadata": {},
     "output_type": "display_data"
    },
    {
     "data": {
      "text/plain": []
     },
     "execution_count": 9,
     "metadata": {},
     "output_type": "execute_result"
    }
   ],
   "source": [
    "# 组合一下文字和图片（概念：块布局）\n",
    "\n",
    "# 导入numpy库，用于数值计算\n",
    "import numpy as np\n",
    "# 导入gradio库，用于创建交互式界面\n",
    "import gradio as gr\n",
    "\n",
    "# 定义一个函数，该函数接收一个字符串并返回其反转字符串\n",
    "def flip_text(x):\n",
    "    return x[::-1]\n",
    "\n",
    "# 定义一个函数，该函数接收一个图像数组并返回其左右翻转的图像\n",
    "def flip_image(x):\n",
    "    return np.fliplr(x)\n",
    "\n",
    "# 使用gr.Blocks创建一个块结构的界面\n",
    "with gr.Blocks() as demo:\n",
    "    # 添加Markdown文本，描述界面的功能\n",
    "    gr.Markdown(\"翻转文字和图片\")\n",
    "    \n",
    "    # 创建一个名为\"Flip Text\"的标签页\n",
    "    with gr.Tab(\"翻转文字标签\"):\n",
    "        # 在标签页内添加一个文本输入框\n",
    "        text_input = gr.Textbox()\n",
    "        # 在标签页内添加一个文本输出框\n",
    "        text_output = gr.Textbox()\n",
    "        # 在标签页内添加一个按钮，用于触发文本翻转操作\n",
    "        text_button = gr.Button(\"翻转文字\")\n",
    "    \n",
    "    # 创建一个名为\"Flip Image\"的标签页\n",
    "    with gr.Tab(\"翻转图片标签\"):\n",
    "        # 在标签页内添加一个行结构\n",
    "        with gr.Row():\n",
    "            # 在行内添加一个图像输入组件\n",
    "            image_input = gr.Image()\n",
    "            # 在行内添加一个图像输出组件\n",
    "            image_output = gr.Image()\n",
    "        # 在标签页内添加一个按钮，用于触发图像翻转操作\n",
    "        image_button = gr.Button(\"翻转图片\")\n",
    "    \n",
    "    # 创建一个可折叠的手风琴组件，包含更多信息\n",
    "    with gr.Accordion(\"更多信息\"):\n",
    "        # 在手风琴组件内添加Markdown文本\n",
    "        gr.Markdown(\"Look at me...\")\n",
    "    \n",
    "    # 设置文本按钮的点击事件，将触发flip_text函数，并连接输入和输出组件\n",
    "    text_button.click(flip_text, inputs=text_input, outputs=text_output)\n",
    "    # 设置图像按钮的点击事件，将触发flip_image函数，并连接输入和输出组件\n",
    "    image_button.click(flip_image, inputs=image_input, outputs=image_output)\n",
    "\n",
    "# 启动创建的界面，这将在浏览器中打开一个新的窗口/标签页，用户可以进行文本或图像翻转操作\n",
    "demo.launch()\n"
   ]
  },
  {
   "cell_type": "markdown",
   "metadata": {},
   "source": [
    "## 核心概念\n",
    "\n",
    "### Interface\n",
    "\n",
    "`Interface` 是 Gradio 库中的一个核心类，它用于创建和管理用户界面（UI）。通过 `Interface` 类，你可以轻松地将一个 Python 函数包装成一个完整的前端应用。这个类接受多个参数，其中最重要的三个是：\n",
    "\n",
    "- `fn`：这是你想要展示或测试的 Python 函数。该函数的输入和输出将与界面的输入和输出组件相连接。\n",
    "- `inputs`：这定义了用户如何与你的函数交互。Gradio 提供了多种预定义的输入组件，如文本框、滑块、图像上传器等。\n",
    "- `outputs`：这定义了函数输出应如何展示。与 `inputs` 类似，你也可以选择多种预定义的输出组件。\n",
    "\n",
    "`Interface` 类提供了一系列方法（如 `.launch()`）来管理 UI 的生命周期，包括启动、关闭和重新加载界面。\n",
    "\n",
    "### Component\n",
    "\n",
    "`Component` 是构成 Gradio UI 的基础元素。在 Gradio 中，几乎所有的输入和输出组件都是 `Component` 类或其子类的实例。组件负责处理与用户交互有关的所有事务，包括数据的收集和展示。\n",
    "\n",
    "Gradio 提供了多种类型的组件，分别对应不同类型的数据和交互方式。例如：\n",
    "\n",
    "- 文本组件（如 `Textbox`）：用于接收和展示文本数据。\n",
    "- 图像组件（如 `Image`）：用于接收和展示图像数据。\n",
    "- 控制组件（如 `Slider`、`Checkbox`）：用于接收一些特定范围或选项的输入。\n",
    "\n",
    "每种组件都有其特定的属性和方法，允许你进行高度定制。例如，你可以设置滑块的最大值和最小值，或者为图像组件设置预期的输入尺寸。\n",
    "\n",
    "`Interface` 和 `Component` 是 Gradio 库中两个最核心的概念。通过它们，即使没有前端开发经验，你也可以快速地为你的机器学习模型或任何 Python 函数创建一个交互式的、易于使用的界面。\n"
   ]
  },
  {
   "cell_type": "markdown",
   "metadata": {},
   "source": [
    "## 第四部分：Gradio常用模块\n",
    "\n",
    "[Gradio组件和原理](https://www.gradio.app/docs/components)\n",
    "\n",
    "- **页面组件**\n",
    "  - **Button, Textbox** 等\n",
    "- **功能组件**\n",
    "  - **输入输出组件：Image, Text** 等\n",
    "  - **控制组件：Slider, Checkbox** 等\n",
    "- **布局组件**\n",
    "  - **Container, Section** 等\n",
    "  "
   ]
  },
  {
   "cell_type": "markdown",
   "metadata": {},
   "source": [
    "\n",
    "## 第五部分：写一个图形界面的ChatGPT agent\n",
    "\n",
    "\n",
    "- **设计UI**\n",
    "  - **输入框和输出框**\n",
    "- **集成OpenAI模型**\n",
    "- **代码演示和测试**\n"
   ]
  },
  {
   "cell_type": "code",
   "execution_count": 7,
   "metadata": {},
   "outputs": [
    {
     "name": "stdout",
     "output_type": "stream",
     "text": [
      "Looking in indexes: https://pypi.mirrors.ustc.edu.cn/simple\n",
      "Requirement already satisfied: openai in d:\\software\\anaconda3\\lib\\site-packages (1.40.1)\n",
      "Requirement already satisfied: anyio<5,>=3.5.0 in d:\\software\\anaconda3\\lib\\site-packages (from openai) (3.5.0)\n",
      "Requirement already satisfied: distro<2,>=1.7.0 in d:\\software\\anaconda3\\lib\\site-packages (from openai) (1.9.0)\n",
      "Requirement already satisfied: httpx<1,>=0.23.0 in d:\\software\\anaconda3\\lib\\site-packages (from openai) (0.27.0)\n",
      "Requirement already satisfied: jiter<1,>=0.4.0 in d:\\software\\anaconda3\\lib\\site-packages (from openai) (0.5.0)\n",
      "Requirement already satisfied: pydantic<3,>=1.9.0 in d:\\software\\anaconda3\\lib\\site-packages (from openai) (2.5.3)\n",
      "Requirement already satisfied: sniffio in d:\\software\\anaconda3\\lib\\site-packages (from openai) (1.2.0)\n",
      "Requirement already satisfied: tqdm>4 in d:\\software\\anaconda3\\lib\\site-packages (from openai) (4.66.4)\n",
      "Requirement already satisfied: typing-extensions<5,>=4.11 in d:\\software\\anaconda3\\lib\\site-packages (from openai) (4.12.1)\n",
      "Requirement already satisfied: idna>=2.8 in d:\\software\\anaconda3\\lib\\site-packages (from anyio<5,>=3.5.0->openai) (3.4)\n",
      "Requirement already satisfied: certifi in d:\\software\\anaconda3\\lib\\site-packages (from httpx<1,>=0.23.0->openai) (2024.2.2)\n",
      "Requirement already satisfied: httpcore==1.* in d:\\software\\anaconda3\\lib\\site-packages (from httpx<1,>=0.23.0->openai) (1.0.5)\n",
      "Requirement already satisfied: h11<0.15,>=0.13 in d:\\software\\anaconda3\\lib\\site-packages (from httpcore==1.*->httpx<1,>=0.23.0->openai) (0.14.0)\n",
      "Requirement already satisfied: annotated-types>=0.4.0 in d:\\software\\anaconda3\\lib\\site-packages (from pydantic<3,>=1.9.0->openai) (0.7.0)\n",
      "Requirement already satisfied: pydantic-core==2.14.6 in d:\\software\\anaconda3\\lib\\site-packages (from pydantic<3,>=1.9.0->openai) (2.14.6)\n",
      "Requirement already satisfied: colorama in d:\\software\\anaconda3\\lib\\site-packages (from tqdm>4->openai) (0.4.6)\n",
      "Note: you may need to restart the kernel to use updated packages.\n"
     ]
    },
    {
     "name": "stderr",
     "output_type": "stream",
     "text": [
      "Traceback (most recent call last):\n",
      "  File \"d:\\software\\anaconda3\\Lib\\site-packages\\gradio\\queueing.py\", line 536, in process_events\n",
      "    response = await route_utils.call_process_api(\n",
      "               ^^^^^^^^^^^^^^^^^^^^^^^^^^^^^^^^^^^\n",
      "  File \"d:\\software\\anaconda3\\Lib\\site-packages\\gradio\\route_utils.py\", line 285, in call_process_api\n",
      "    output = await app.get_blocks().process_api(\n",
      "             ^^^^^^^^^^^^^^^^^^^^^^^^^^^^^^^^^^^\n",
      "  File \"d:\\software\\anaconda3\\Lib\\site-packages\\gradio\\blocks.py\", line 1923, in process_api\n",
      "    result = await self.call_function(\n",
      "             ^^^^^^^^^^^^^^^^^^^^^^^^^\n",
      "  File \"d:\\software\\anaconda3\\Lib\\site-packages\\gradio\\blocks.py\", line 1506, in call_function\n",
      "    prediction = await fn(*processed_input)\n",
      "                 ^^^^^^^^^^^^^^^^^^^^^^^^^^\n",
      "  File \"d:\\software\\anaconda3\\Lib\\site-packages\\gradio\\utils.py\", line 785, in async_wrapper\n",
      "    response = await f(*args, **kwargs)\n",
      "               ^^^^^^^^^^^^^^^^^^^^^^^^\n",
      "  File \"d:\\software\\anaconda3\\Lib\\site-packages\\gradio\\chat_interface.py\", line 607, in _submit_fn\n",
      "    response = await anyio.to_thread.run_sync(\n",
      "               ^^^^^^^^^^^^^^^^^^^^^^^^^^^^^^^\n",
      "  File \"d:\\software\\anaconda3\\Lib\\site-packages\\anyio\\to_thread.py\", line 28, in run_sync\n",
      "    return await get_asynclib().run_sync_in_worker_thread(func, *args, cancellable=cancellable,\n",
      "           ^^^^^^^^^^^^^^^^^^^^^^^^^^^^^^^^^^^^^^^^^^^^^^^^^^^^^^^^^^^^^^^^^^^^^^^^^^^^^^^^^^^^\n",
      "  File \"d:\\software\\anaconda3\\Lib\\site-packages\\anyio\\_backends\\_asyncio.py\", line 818, in run_sync_in_worker_thread\n",
      "    return await future\n",
      "           ^^^^^^^^^^^^\n",
      "  File \"d:\\software\\anaconda3\\Lib\\site-packages\\anyio\\_backends\\_asyncio.py\", line 754, in run\n",
      "    result = context.run(func, *args)\n",
      "             ^^^^^^^^^^^^^^^^^^^^^^^^\n",
      "  File \"C:\\Users\\rootc\\AppData\\Local\\Temp\\ipykernel_29892\\1260514376.py\", line 30, in predict\n",
      "    completion = openai.ChatCompletion.create(\n",
      "                 ^^^^^^^^^^^^^^^^^^^^^^^^^^^^^\n",
      "  File \"d:\\software\\anaconda3\\Lib\\site-packages\\openai\\lib\\_old_api.py\", line 39, in __call__\n",
      "    raise APIRemovedInV1(symbol=self._symbol)\n",
      "openai.lib._old_api.APIRemovedInV1: \n",
      "\n",
      "You tried to access openai.ChatCompletion, but this is no longer supported in openai>=1.0.0 - see the README at https://github.com/openai/openai-python for the API.\n",
      "\n",
      "You can run `openai migrate` to automatically upgrade your codebase to use the 1.0.0 interface. \n",
      "\n",
      "Alternatively, you can pin your installation to the old version, e.g. `pip install openai==0.28`\n",
      "\n",
      "A detailed migration guide is available here: https://github.com/openai/openai-python/discussions/742\n",
      "\n"
     ]
    }
   ],
   "source": [
    "%pip install --upgrade openai"
   ]
  },
  {
   "cell_type": "code",
   "execution_count": 10,
   "metadata": {},
   "outputs": [
    {
     "name": "stdout",
     "output_type": "stream",
     "text": [
      "Running on local URL:  http://127.0.0.1:7866\n",
      "Running on public URL: https://6c03918820a010efde.gradio.live\n",
      "\n",
      "This share link expires in 72 hours. For free permanent hosting and GPU upgrades, run `gradio deploy` from Terminal to deploy to Spaces (https://huggingface.co/spaces)\n"
     ]
    },
    {
     "data": {
      "text/html": [
       "<div><iframe src=\"https://6c03918820a010efde.gradio.live\" width=\"100%\" height=\"500\" allow=\"autoplay; camera; microphone; clipboard-read; clipboard-write;\" frameborder=\"0\" allowfullscreen></iframe></div>"
      ],
      "text/plain": [
       "<IPython.core.display.HTML object>"
      ]
     },
     "metadata": {},
     "output_type": "display_data"
    },
    {
     "data": {
      "text/plain": []
     },
     "execution_count": 10,
     "metadata": {},
     "output_type": "execute_result"
    }
   ],
   "source": [
    "from openai import OpenAI\n",
    "import gradio as gr\n",
    "import os\n",
    "\n",
    "# 设置OpenAI API的密钥。请确保替换为你自己的API密钥\n",
    "# os.environ[\"OPENAI_API_KEY\"] = \"你的API 密钥\"  # Replace with your key\n",
    "# os.environ[\"http_proxy\"] = \"http://127.0.0.1:17890\"\n",
    "os.environ[\"https_proxy\"] = \"http://127.0.0.1:17890\"\n",
    "\n",
    "# 初始化OpenAI API密钥\n",
    "api_key = os.getenv(\"OPENAI_API_KEY\")\n",
    "client = OpenAI(api_key=api_key)\n",
    "\n",
    "\n",
    "# 定义一个函数，该函数接收一个消息和历史对话，然后返回GPT模型的响应\n",
    "def predict(message, history):\n",
    "    # 初始化一个空列表，用于存储历史对话\n",
    "    history_openai_format = []\n",
    "    \n",
    "    # 遍历历史对话，将其添加到列表中\n",
    "    for human, assistant in history:\n",
    "        history_openai_format.append({\"role\": \"user\", \"content\": human })\n",
    "        history_openai_format.append({\"role\": \"assistant\", \"content\":assistant})\n",
    "\n",
    "        \n",
    "    # 将当前消息也添加到历史对话中\n",
    "    history_openai_format.append({\"role\": \"user\", \"content\": message})\n",
    "    \n",
    "    # 使用OpenAI API与GPT模型进行交互，并获取响应\n",
    "    # http://platform.openai.com\n",
    "    response = client.chat.completions.create(model='gpt-4o-mini',\n",
    "    messages= history_openai_format,\n",
    "    temperature=1.0,\n",
    "    stream=True)\n",
    "    \n",
    "    partial_message = \"\"\n",
    "    for chunk in response:\n",
    "        if chunk.choices[0].delta.content is not None:\n",
    "              partial_message = partial_message + chunk.choices[0].delta.content\n",
    "              yield partial_message\n",
    "\n",
    "# 使用gr.ChatInterface创建一个聊天界面，并使用上面定义的predict函数\n",
    "gr.ChatInterface(predict).launch(share=True)\n"
   ]
  },
  {
   "cell_type": "markdown",
   "metadata": {},
   "source": [
    "## 课程总结和Q&A\n",
    "\n",
    "### 总结\n",
    "\n",
    "在本课程中，我们深入探讨了Gradio框架，一个用于快速创建交互式AI界面的工具。我们了解了其核心概念，如`Interface`和`Component`，并通过实际的代码示例展示了如何使用Gradio为不同的应用创建界面。此外，我们还讨论了Gradio与其他框架的比较，强调了其易用性、灵活性和与其他工具的集成能力。\n",
    "\n",
    "### 下一步学习路径\n",
    "\n",
    "1. **深入Gradio**：探索Gradio的高级功能和特性，如自定义样式、部署到生产环境等。\n",
    "2. **集成其他AI模型**：学习如何使用Gradio与其他流行的机器学习和深度学习框架集成，如TensorFlow、PyTorch等。\n",
    "3. **UI/UX设计**：为了创建更加用户友好的界面，可以进一步学习UI/UX设计的基础知识。\n",
    "\n",
    "### 问题和答疑\n",
    "\n",
    "\n"
   ]
  }
 ],
 "metadata": {
  "kernelspec": {
   "display_name": "Python 3",
   "language": "python",
   "name": "python3"
  },
  "language_info": {
   "codemirror_mode": {
    "name": "ipython",
    "version": 3
   },
   "file_extension": ".py",
   "mimetype": "text/x-python",
   "name": "python",
   "nbconvert_exporter": "python",
   "pygments_lexer": "ipython3",
   "version": "3.11.5"
  },
  "orig_nbformat": 4
 },
 "nbformat": 4,
 "nbformat_minor": 2
}
